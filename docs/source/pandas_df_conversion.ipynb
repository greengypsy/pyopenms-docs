{
 "cells": [
  {
   "cell_type": "markdown",
   "metadata": {},
   "source": [
    "# Export to pandas DataFrame\n",
    "\n",
    "**NOTE: This feature is available only if using a version of pyOpenMS\n",
    "\\>= 3.0, at the time of writing this means using one of the nightly\n",
    "builds as described in the** [Installation\n",
    "Instructions](installation.ipynb#nightly-ci-wheels).\n",
    "\n",
    "In pyOpenMS some data structures can be converted to a tabular format as\n",
    "a `pandas.DataFrame`. This allows convenient access to data and meta\n",
    "values of spectra, features and identifications.\n",
    "\n",
    "Required imports for the examples:"
   ],
   "id": "4cd3cb34-bc85-4d56-ba16-f9f53f0e346c"
  },
  {
   "cell_type": "code",
   "execution_count": null,
   "metadata": {},
   "outputs": [],
   "source": [
    "from pyopenms import *\n",
    "import pandas as pd\n",
    "from urllib.request import urlretrieve\n",
    "url = 'https://raw.githubusercontent.com/OpenMS/pyopenms-docs/master/src/data/'"
   ],
   "id": "53d60d42-ae61-4450-9817-8d70d0b67538"
  },
  {
   "cell_type": "markdown",
   "metadata": {},
   "source": [
    "## MSExperiment\n",
    "\n",
    "**pyopenms.MSExperiment.get_df(** *long=False* **)**  \n",
    "Generates a pandas DataFrame with all peaks in the MSExperiment\n",
    "\n",
    "**Parameters:**\n",
    "\n",
    "**long :** default False\n",
    "\n",
    "set to True if you want to have a long/expanded/melted dataframe with\n",
    "one row per peak. Faster but replicated RT information. If False,\n",
    "returns rows in the style: rt, np.array(mz), np.array(int)\n",
    "\n",
    "**Returns:**\n",
    "\n",
    "**pandas.DataFrame**\n",
    "\n",
    "peak map information stored in a DataFrame\n",
    "\n",
    "**Examples:**"
   ],
   "id": "62df2ebb-f903-4536-875d-c697423d65eb"
  },
  {
   "cell_type": "code",
   "execution_count": null,
   "metadata": {},
   "outputs": [],
   "source": [
    "urlretrieve(url+'BSA1.mzML', 'BSA1.mzML')\n",
    "exp = MSExperiment()\n",
    "MzMLFile().load('BSA1.mzML', exp)\n",
    "\n",
    "df = exp.get_df() # default: long = False\n",
    "df.head(2)"
   ],
   "id": "5f5f7df3-7dcf-4180-9bf5-61f7a89d0aac"
  },
  {
   "cell_type": "markdown",
   "metadata": {},
   "source": [
    "|     | RT         | mzarray                                            | intarray                                           |\n",
    "|---|-------|-------------------------------|-------------------------------|\n",
    "| 0   | 1501.41394 | \\[300.0897645621494, 300.18132740129533, 300.20... | \\[3431.0261, 1181.809, 1516.1746, 1719.8547, 11... |\n",
    "| 1   | 1503.03125 | \\[300.06577092599525, 300.08932376441896, 300.2... | \\[914.79034, 1842.2311, 2395.1025, 851.4738, 16... |\n",
    "\n",
    "exp.get_df()"
   ],
   "id": "329102f9-02ff-4dd1-8a11-4ea1280585c4"
  },
  {
   "cell_type": "code",
   "execution_count": null,
   "metadata": {},
   "outputs": [],
   "source": [
    "df = exp.get_df(long=True)\n",
    "df.head(2)"
   ],
   "id": "649df23a-375a-4603-b9aa-1729bb68d738"
  },
  {
   "cell_type": "markdown",
   "metadata": {},
   "source": [
    "|     | RT         | mz         | inty        |\n",
    "|-----|------------|------------|-------------|\n",
    "| 0   | 1501.41394 | 300.089752 | 3431.026123 |\n",
    "| 1   | 1501.41394 | 300.181335 | 1181.808960 |\n",
    "\n",
    "exp.get_df(long=True)\n",
    "\n",
    "## PeptideIdentifications\n",
    "\n",
    "**pyopenms.peptide_identifications_to_df( peps**, *decode_ontology=True*, *default_missing_values={bool: False, int: -9999, float: np.nan, str: ''}*, *export_unidentified=True* **)**  \n",
    "Generates a pandas DataFrame with all peaks in the MSExperiment\n",
    "\n",
    "**Parameters:**\n",
    "\n",
    "**peps :**\n",
    "\n",
    "list of PeptideIdentification objects\n",
    "\n",
    "**decode_ontology :** default True\n",
    "\n",
    "if meta values contain CV identifer (e.g., from PSI-MS) they will be\n",
    "automatically decoded into the human readable CV term name.\n",
    "\n",
    "**default_missing_values :** default {bool: False, int: -9999, float:\n",
    "np.nan, str: ''}\n",
    "\n",
    "default value for missing values for each data type\n",
    "\n",
    "**export_unidentified :** default True\n",
    "\n",
    "export PeptideIdentifications without PeptideHit\n",
    "\n",
    "**Returns:**\n",
    "\n",
    "**pandas.DataFrame**\n",
    "\n",
    "peptide identifications in a DataFrame\n",
    "\n",
    "**Example:**"
   ],
   "id": "5b2b916b-a59d-4c08-b82b-94ff3b560717"
  },
  {
   "cell_type": "code",
   "execution_count": null,
   "metadata": {},
   "outputs": [],
   "source": [
    "urlretrieve(url+'small.idXML', 'small.idXML')\n",
    "prot_ids = []\n",
    "pep_ids = []\n",
    "IdXMLFile().load('small.idXML', prot_ids, pep_ids)\n",
    "\n",
    "df = peptide_identifications_to_df(pep_ids)\n",
    "df.head(2)"
   ],
   "id": "687a1b9a-8440-4498-a60c-f03f20a556ce"
  },
  {
   "cell_type": "markdown",
   "metadata": {},
   "source": [
    "|     | id                                               | RT         | mz         | q-value  | charge | protein_accession   | start | end | NuXL:z2 mass | NuXL:z3 mass | ... | isotope_error | NuXL:peptide_mass_z0 | NuXL:XL_U | NuXL:sequence_score |\n",
    "|--|-----|---|-----|-----|---|-----|-----|-----|-----|-----|-----|-----|-----|-----|-----|\n",
    "| 0   | OpenNuXL_2019-12-04T16:39:43_1021782429466859437 | 900.425415 | 414.730865 | 0.368649 | 4      | DECOY_spZN589_HUMAN | 255   | 267 | 828.458069   | 552.641113   | ... | 0             | 1654.901611          | 0         | 0.173912            |\n",
    "| 1   | OpenNuXL_2019-12-04T16:39:43_7293634134684008928 | 903.565186 | 506.259521 | 0.422779 | 2      | spRL15_HUMAN        | 179   | 187 | 0.0          | 0.0          | ... | 0             | 1010.504639          | 0         | 0.290786            |\n",
    "\n",
    "peptide_identifications_to_df(pep_ids)\n",
    "\n",
    "## FeatureMap\n",
    "\n",
    "**pyopenms.FeatureMap.get_df(** *meta_values = None* **)**  \n",
    "Generates a pandas DataFrame with information contained in the\n",
    "FeatureMap.\n",
    "\n",
    "Optionally the feature meta values and information for the assigned\n",
    "PeptideHit can be exported.\n",
    "\n",
    "**Parameters:**\n",
    "\n",
    "**meta_values :** default None\n",
    "\n",
    "meta values to include (None, \\[custom list of meta value names\\] or\n",
    "'all')\n",
    "\n",
    "**export_peptide_identifications (bool):** default True\n",
    "\n",
    "export sequence and score for best PeptideHit assigned to a feature.\n",
    "Additionally the ID_filename (file name of the corresponding\n",
    "ProteinIdentification) and the ID_native_id (spectrum ID of the\n",
    "corresponding Feature) are exported. They are also annotated as meta\n",
    "values when collecting all assigned PeptideIdentifications from a\n",
    "FeatureMap with FeatureMap.get_assigned_peptide_identifications(). A\n",
    "DataFrame from the assigned peptides generated with\n",
    "peptide_identifications_to_df(assigned_peptides) can be merged with the\n",
    "FeatureMap DataFrame with: merged_df = pd.merge(feature_df,\n",
    "assigned_peptide_df, on=\\['feature_id', 'ID_native_id', 'ID_filename'\\])\n",
    "\n",
    "**Returns:**\n",
    "\n",
    "**pandas.DataFrame**\n",
    "\n",
    "feature information stored in a DataFrame\n",
    "\n",
    "**Examples:**"
   ],
   "id": "c0f8c47e-a1c6-4f04-9059-dbef4bdc571b"
  },
  {
   "cell_type": "code",
   "execution_count": null,
   "metadata": {},
   "outputs": [],
   "source": [
    "urlretrieve(url+'BSA1_F1_idmapped.featureXML', 'BSA1_F1_idmapped.featureXML')\n",
    "feature_map = FeatureMap()\n",
    "FeatureXMLFile().load('BSA1_F1_idmapped.featureXML', feature_map)\n",
    "\n",
    "df = feature_map.get_df() # default: meta_values = None\n",
    "df.head(2)"
   ],
   "id": "5c4047d2-9bd9-44f5-b836-6d6e2ff1a8d7"
  },
  {
   "cell_type": "markdown",
   "metadata": {},
   "source": [
    "| id                   | peptide_sequence | peptide_score | ID_filename | ID_native_id  | charge | RT          | mz         | RTstart     | RTend       | mzstart    | mzend      | quality  | intensity    |\n",
    "|------|------|------|------|------|---|------|------|------|------|------|------|------|------|\n",
    "| 9650885788371886430  | LVTDLTK          | 0.000000      | unknown     | spectrum=1270 | 2      | 1942.600083 | 395.239277 | 1932.484009 | 1950.834351 | 395.239199 | 397.245758 | 0.808494 | 157572000\\.0 |\n",
    "| 18416216708636999474 | DDSPDLPK         | 0.034483      | unknown     | spectrum=1167 | 2      | 1749.138335 | 443.711224 | 1735.693115 | 1763.343506 | 443.711122 | 445.717531 | 0.893553 | 54069300.0   |\n",
    "\n",
    "feature_map.get_df()"
   ],
   "id": "5958bddf-533f-4716-ad4b-e99041c22a12"
  },
  {
   "cell_type": "code",
   "execution_count": null,
   "metadata": {},
   "outputs": [],
   "source": [
    "df = feature_map.get_df(meta_values = 'all', export_peptide_identifications = False)\n",
    "df.head(2)"
   ],
   "id": "da0e981b-51c3-4b50-9026-d333ee2e2d1e"
  },
  {
   "cell_type": "markdown",
   "metadata": {},
   "source": [
    "| id                   | charge | RT          | mz         | RTstart     | RTend       | mzstart    | mzend      | quality  | intensity    | FWHM      | spectrum_index | spectrum_native_id | label | score_correlation | score_fit |\n",
    "|-----|--|-----|-----|-----|-----|-----|-----|-----|-----|-----|-----|-----|-----|-----|-----|\n",
    "| 9650885788371886430  | 2      | 1942.600083 | 395.239277 | 1932.484009 | 1950.834351 | 395.239199 | 397.245758 | 0.808494 | 157572000\\.0 | 10.061090 | 259            | spectrum=1270      | 168   | 0.989969          | 0.660286  |\n",
    "| 18416216708636999474 | 2      | 1749.138335 | 443.711224 | 1735.693115 | 1763.343506 | 443.71112  | 445.717531 | 0.893553 | 54069300.0   | 14.156094 | 156            | spectrum=1167      | 169   | 0.999002          | 0.799234  |\n",
    "\n",
    "feature_map.get_df(meta_values = 'all', export_peptide_identifications =\n",
    "False)"
   ],
   "id": "f1c123f7-0730-478c-b731-247fec9cdd0d"
  },
  {
   "cell_type": "code",
   "execution_count": null,
   "metadata": {},
   "outputs": [],
   "source": [
    "df = feature_map.get_df(meta_values = [b'FWHM', b'label'])\n",
    "df.head(2)"
   ],
   "id": "aafa0006-fdf1-4df0-b3a3-c924f2e5559c"
  },
  {
   "cell_type": "markdown",
   "metadata": {},
   "source": [
    "| id                   | charge | RT          | mz         | RTstart     | RTend       | mzstart    | mzend      | quality  | intensity    | FWHM      | label |\n",
    "|-------|---|-------|-------|-------|-------|-------|-------|-------|-------|-------|-------|\n",
    "| 9650885788371886430  | 2      | 1942.600083 | 395.239277 | 1932.484009 | 1950.834351 | 395.239199 | 397.245758 | 0.808494 | 157572000\\.0 | 10.061090 | 168   |\n",
    "| 18416216708636999474 | 2      | 1749.138335 | 443.711224 | 1735.693115 | 1763.343506 | 443.71112  | 445.717531 | 0.893553 | 54069300.0   | 14.156094 | 169   |\n",
    "\n",
    "feature_map.get_df(meta_values = \\[b'FWHM', b'label'\\])\n",
    "\n",
    "**Extract assigned peptide identifications from a feature map**\n",
    "\n",
    "Peptide identifications can be mapped to their corresponding features in\n",
    "a `FeatureMap`. It is possible to extract them using the function\n",
    "`pyopenms.FeatureMap.get_assigned_peptide_identifications()` returning a\n",
    "list of `PeptideIdentification` objects.\n",
    "\n",
    "**pyopenms.FeatureMap.get_assigned_peptide_identifications()**  \n",
    "Generates a list with peptide identifications assigned to a feature.\n",
    "\n",
    "Adds 'ID_native_id' (feature spectrum id), 'ID_filename' (primary MS run\n",
    "path of corresponding ProteinIdentification) and 'feature_id' (unique ID\n",
    "of corresponding Feature) as meta values to the peptide hits. A\n",
    "DataFrame from the assigned peptides generated with\n",
    "peptide_identifications_to_df(assigned_peptides) can be merged with the\n",
    "FeatureMap DataFrame with: merged_df = pd.merge(feature_df,\n",
    "assigned_peptide_df, on=\\['feature_id', 'ID_native_id', 'ID_filename'\\])\n",
    "\n",
    "**Returns:**\n",
    "\n",
    "**\\[PeptideIdentification\\]**\n",
    "\n",
    "list of PeptideIdentification objects\n",
    "\n",
    "A `DataFrame` can be created on the resulting list of\n",
    "`PeptideIdentification` objects using\n",
    "`pyopenms.peptide_identifications_to_df(assigned_peptides)`. Feature map\n",
    "and peptide data frames contain columns, on which they can be merged\n",
    "together to contain the complete information for peptides and features\n",
    "in a single data frame.\n",
    "\n",
    "The columns for unambiguously merging the data frames:\n",
    "\n",
    "-   `feature_id`: the unique feature identifier\n",
    "-   `ID_native_id`: the feature spectrum native identifier\n",
    "-   `ID_filename`: the filename (primary MS run path) of the\n",
    "    corresponding `ProteinIdentification`\n",
    "\n",
    "**Example:**"
   ],
   "id": "e35c673c-536d-4f60-9384-d86512991ee3"
  },
  {
   "cell_type": "code",
   "execution_count": null,
   "metadata": {},
   "outputs": [],
   "source": [
    "feature_df = feature_map.get_df()\n",
    "assigned_peptides = feature_map.get_assigned_peptide_identifications()\n",
    "assigned_peptide_df = peptide_identifications_to_df(assigned_peptides)\n",
    "\n",
    "merged_df = pd.merge(feature_df, assigned_peptide_df, on=['feature_id', 'ID_native_id', 'ID_filename'])\n",
    "merged_df.head(2)"
   ],
   "id": "4affc0fb-eae7-49e8-be17-2b7ca4e389f3"
  },
  {
   "cell_type": "markdown",
   "metadata": {},
   "source": [
    "| feature_id           | peptide_sequence | peptide_score | ID_filename | ID_native_id  | charge_x | RT_x        | mz_x       | RTstart     | RTend       | ... | id                                            | RT_y        | mz_y       | q-value  | charge_y | protein_accession  | start | end | OMSSA_score | target_decoy |\n",
    "|----|----|----|----|----|----|----|----|----|----|----|----|----|----|----|----|----|----|----|----|----|\n",
    "| 9650885788371886430  | LVTDLTK          | 0.000000      | unknown     | spectrum=1270 | 2        | 1942.600083 | 395.239277 | 1932.484009 | 1950.834351 | ... | OMSSA_2009-11-17T11:11:11_4731105163044641872 | 1933.405151 | 395.239349 | 0.000000 | 2        | P02769\\|ALBU_BOVIN | -1    | -1  | 0.001084    | True         |\n",
    "| 18416216708636999474 | DDSPDLPK         | 0.034483      | unknown     | spectrum=1167 | 2        | 1749.138335 | 443.711224 | 1735.693115 | 1763.343506 | ... | OMSSA_2009-11-17T11:11:11_4731105163044641872 | 1738.033447 | 443.711243 | 0.034483 | 2        | P02769\\|ALBU_BOVIN | -1    | -1  | 0.003951    | True         |\n",
    "\n",
    "consensus_map.get_df()\n",
    "\n",
    "## ConsensusMap\n",
    "\n",
    "**pyopenms.ConsensusMap.get_df()**  \n",
    "Generates a pandas DataFrame with both consensus feature meta data and\n",
    "intensities from each sample.\n",
    "\n",
    "**Returns:**\n",
    "\n",
    "**pandas.DataFrame**\n",
    "\n",
    "consensus map meta data and intensity stored in pandas DataFrame\n",
    "\n",
    "**pyopenms.ConsensusMap.get_intensity_df()**  \n",
    "Generates a pandas DataFrame with feature intensities from each sample\n",
    "in long format (over files).\n",
    "\n",
    "For labelled analyses channel intensities will be in one row, therefore\n",
    "resulting in a semi-long/block format. Resulting DataFrame can be joined\n",
    "with result from get_metadata_df by their index 'id'.\n",
    "\n",
    "**Returns:**\n",
    "\n",
    "**pandas.DataFrame**\n",
    "\n",
    "intensity DataFrame\n",
    "\n",
    "**pyopenms.ConsensusMap.get_metadata_df()**  \n",
    "Generates a pandas DataFrame with feature meta data (sequence, charge,\n",
    "mz, RT, quality).\n",
    "\n",
    "Resulting DataFrame can be joined with result from get_intensity_df by\n",
    "their index 'id'.\n",
    "\n",
    "**Returns:**\n",
    "\n",
    "**pandas.DataFrame**\n",
    "\n",
    "DataFrame with metadata for each feature (such as: best identified\n",
    "sequence, charge, centroid RT/mz, fitting quality)\n",
    "\n",
    "**Examples:**"
   ],
   "id": "c6c04163-301f-4d5e-9830-563fc3fd10ea"
  },
  {
   "cell_type": "code",
   "execution_count": null,
   "metadata": {},
   "outputs": [],
   "source": [
    "urlretrieve(url+'ProteomicsLFQ_1_out.consensusXML', 'ProteomicsLFQ_1_out.consensusXML')\n",
    "consensus_map = ConsensusMap()\n",
    "ConsensusXMLFile().load('ProteomicsLFQ_1_out.consensusXML', consensus_map)\n",
    "\n",
    "df = consensus_map.get_df()\n",
    "df.head(2)"
   ],
   "id": "49047eac-f36f-4a92-b7fa-8c7543df6e07"
  },
  {
   "cell_type": "markdown",
   "metadata": {},
   "source": [
    "| id  | sequence | charge | RT  | mz  | quality | BSA1_F1.mzML | ... | BSA1_F2.mzML |\n",
    "|-----|----------|--------|-----|-----|---------|--------------|-----|--------------|\n",
    "\n",
    "consensus_map.get_df()\n",
    "\n",
    "> \"2935923263525422257\", \"DGDIEAEISR\", \"3\", \"1523.370634\", \"368.843773\",\n",
    "> \"0.000000\", \"0.0\", \"...\", \"0.0\" \"10409195546240342212\",\n",
    "> \"SHC(Carbamidomethyl)IAEVEK\", \"3\", \"1552.032973\", \"358.174576\",\n",
    "> \"0.491247\", \"1358151.0\", \"...\", \"0.0\""
   ],
   "id": "9087efc1-3a4d-46b8-91c6-ab7aa060afc1"
  },
  {
   "cell_type": "code",
   "execution_count": null,
   "metadata": {},
   "outputs": [],
   "source": [
    "df = consensus_map.get_intensity_df()\n",
    "df.head(2)"
   ],
   "id": "9b8456ec-e55b-412b-95d7-f61bdeb43b00"
  },
  {
   "cell_type": "markdown",
   "metadata": {},
   "source": [
    "| id                   | BSA1_F1.mzML | ... | BSA1_F2.mzML |\n",
    "|----------------------|--------------|-----|--------------|\n",
    "| 2935923263525422257  | 0.0          | ... | 0.0          |\n",
    "| 10409195546240342212 | 1358151.0    | ... | 0.0          |\n",
    "\n",
    "consensus_map.get_intensity_df()"
   ],
   "id": "9bccd88b-1b81-419d-98e3-84e337253691"
  },
  {
   "cell_type": "code",
   "execution_count": null,
   "metadata": {},
   "outputs": [],
   "source": [
    "df = consensus_map.get_metadata_df()\n",
    "df.head(2)"
   ],
   "id": "e95a2715-8015-4e88-88f5-e8a16cffbf69"
  },
  {
   "cell_type": "markdown",
   "metadata": {},
   "source": [
    "| id                   | sequence                   | charge | RT          | mz         | quality  |\n",
    "|------------|------------|------------|------------|------------|------------|\n",
    "| 2935923263525422257  | DGDIEAEISR                 | 3      | 1523.370634 | 368.843773 | 0.000000 |\n",
    "| 10409195546240342212 | SHC(Carbamidomethyl)IAEVEK | 3      | 1552.032973 | 358.174576 | 0.491247 |\n",
    "\n",
    "consensus_map.get_metadata_df()"
   ],
   "id": "fc8b4fc3-4af9-4870-bacd-017d8d3c78c1"
  }
 ],
 "nbformat": 4,
 "nbformat_minor": 5,
 "metadata": {}
}
