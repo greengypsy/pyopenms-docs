{
 "cells": [
  {
   "cell_type": "markdown",
   "metadata": {},
   "source": [
    "# Spectrum normalization\n",
    "\n",
    "Another very basic spectrum processing step is normalization by base\n",
    "peak intensity (the maximum intensity of a spectrum).\n",
    "\n",
    "Let's first load the raw data."
   ],
   "id": "5c5b9d30-18da-4f63-aa63-58b8605ee2f9"
  },
  {
   "cell_type": "code",
   "execution_count": null,
   "metadata": {},
   "outputs": [],
   "source": [
    "from urllib.request import urlretrieve\n",
    "from pyopenms import *\n",
    "import matplotlib.pyplot as plt\n",
    "\n",
    "gh = \"https://raw.githubusercontent.com/OpenMS/pyopenms-docs/master\"\n",
    "urlretrieve (gh + \"/src/data/peakpicker_tutorial_1_baseline_filtered.mzML\", \"tutorial.mzML\")\n",
    "exp = MSExperiment()\n",
    "MzMLFile().load(\"tutorial.mzML\", exp)\n",
    "plt.bar(exp.getSpectrum(0).get_peaks()[0], exp.getSpectrum(0).get_peaks()[1], snap=False)"
   ],
   "id": "30fa495f-bb76-4f6a-913e-5f2482b41ee0"
  },
  {
   "cell_type": "markdown",
   "metadata": {},
   "source": [
    "Now we apply the normalization."
   ],
   "id": "71c28a50-e581-4e95-8565-17189bacfa34"
  },
  {
   "cell_type": "code",
   "execution_count": null,
   "metadata": {},
   "outputs": [],
   "source": [
    "normalizer = Normalizer()\n",
    "param = normalizer.getParameters()\n",
    "param.setValue(\"method\", \"to_one\")\n",
    "normalizer.setParameters(param)\n",
    "\n",
    "normalizer.filterPeakMap(exp)\n",
    "plt.bar(exp.getSpectrum(0).get_peaks()[0], exp.getSpectrum(0).get_peaks()[1], snap=False)  "
   ],
   "id": "62b6a4a5-cd12-4d00-8523-cc7f8e414fb3"
  },
  {
   "cell_type": "markdown",
   "metadata": {},
   "source": [
    "Another way of normalizing is by TIC (total ion count) of the spectrum,\n",
    "which scales intensities so they add up to 1.0 in each spectrum. Try it\n",
    "out for yourself by setting: param.setValue(\"method\", \"to_TIC\")."
   ],
   "id": "ba933085-57f7-48fe-b8d7-4bfaf924a1d3"
  }
 ],
 "nbformat": 4,
 "nbformat_minor": 5,
 "metadata": {}
}
